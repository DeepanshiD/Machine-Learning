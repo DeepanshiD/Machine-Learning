{
 "cells": [
  {
   "cell_type": "code",
   "execution_count": 3,
   "metadata": {},
   "outputs": [
    {
     "name": "stdout",
     "output_type": "stream",
     "text": [
      "True\n"
     ]
    }
   ],
   "source": [
    "d=True\n",
    "b=30\n",
    "if d==False or b==30:\n",
    "    print (True)"
   ]
  },
  {
   "cell_type": "markdown",
   "metadata": {},
   "source": [
    "##Strings\n"
   ]
  },
  {
   "cell_type": "code",
   "execution_count": 8,
   "metadata": {},
   "outputs": [
    {
     "name": "stdout",
     "output_type": "stream",
     "text": [
      "tarshine\n"
     ]
    }
   ],
   "source": [
    "a=\"starshine\"\n",
    "k=a[1:]\n",
    "print(k)"
   ]
  },
  {
   "cell_type": "code",
   "execution_count": 9,
   "metadata": {},
   "outputs": [
    {
     "name": "stdout",
     "output_type": "stream",
     "text": [
      "ine\n"
     ]
    }
   ],
   "source": [
    "a=\"starshine\"\n",
    "k=a[-3:]\n",
    "print(k)"
   ]
  },
  {
   "cell_type": "code",
   "execution_count": 12,
   "metadata": {},
   "outputs": [
    {
     "name": "stdout",
     "output_type": "stream",
     "text": [
      "['\"The', 'ife', 'of', 'pie', 'is', 'an', 'astonishing', 'life', 'keeps', 'us', 'spinning', 'around']\n",
      "<class 'list'>\n",
      "<class 'str'>\n"
     ]
    }
   ],
   "source": [
    "l=\"\"\"\"The ife of pie\n",
    "is an astonishing life\n",
    "keeps us spinning around\"\"\"\n",
    "s=l.split()\n",
    "print(s)\n",
    "print(type(s))\n",
    "print(type(s[0]))"
   ]
  },
  {
   "cell_type": "code",
   "execution_count": 13,
   "metadata": {},
   "outputs": [
    {
     "data": {
      "text/plain": [
       "['\"The ife of pie', 'is an astonishing life', 'keeps us spinning around']"
      ]
     },
     "execution_count": 13,
     "metadata": {},
     "output_type": "execute_result"
    }
   ],
   "source": [
    "l.splitlines()"
   ]
  },
  {
   "cell_type": "code",
   "execution_count": 20,
   "metadata": {},
   "outputs": [
    {
     "name": "stdout",
     "output_type": "stream",
     "text": [
      "17\n",
      "14\n"
     ]
    }
   ],
   "source": [
    "shake=\"   Apple Shake   \"\n",
    "print(len(shake))\n",
    "shake=shake.lstrip()\n",
    "print(len(shake))"
   ]
  },
  {
   "cell_type": "code",
   "execution_count": 21,
   "metadata": {},
   "outputs": [
    {
     "name": "stdout",
     "output_type": "stream",
     "text": [
      "APPLE SHAKE   \n",
      "apple shake   \n"
     ]
    }
   ],
   "source": [
    "shake=shake.upper()\n",
    "print(shake)\n",
    "shake=shake.lower()\n",
    "print(shake)"
   ]
  },
  {
   "cell_type": "code",
   "execution_count": 23,
   "metadata": {},
   "outputs": [
    {
     "name": "stdout",
     "output_type": "stream",
     "text": [
      "11\n"
     ]
    }
   ],
   "source": [
    "shake=shake.strip()\n",
    "print(len(shake))"
   ]
  },
  {
   "cell_type": "code",
   "execution_count": 28,
   "metadata": {},
   "outputs": [
    {
     "data": {
      "text/plain": [
       "False"
      ]
     },
     "execution_count": 28,
     "metadata": {},
     "output_type": "execute_result"
    }
   ],
   "source": [
    "a=\"908j\"\n",
    "a.isdigit()"
   ]
  },
  {
   "cell_type": "code",
   "execution_count": 26,
   "metadata": {},
   "outputs": [
    {
     "data": {
      "text/plain": [
       "True"
      ]
     },
     "execution_count": 26,
     "metadata": {},
     "output_type": "execute_result"
    }
   ],
   "source": [
    "a=\"dfghj\"\n",
    "a.isalpha()"
   ]
  },
  {
   "cell_type": "code",
   "execution_count": 29,
   "metadata": {},
   "outputs": [
    {
     "data": {
      "text/plain": [
       "True"
      ]
     },
     "execution_count": 29,
     "metadata": {},
     "output_type": "execute_result"
    }
   ],
   "source": [
    "a.isalnum()"
   ]
  },
  {
   "cell_type": "code",
   "execution_count": 30,
   "metadata": {},
   "outputs": [
    {
     "data": {
      "text/plain": [
       "True"
      ]
     },
     "execution_count": 30,
     "metadata": {},
     "output_type": "execute_result"
    }
   ],
   "source": [
    "a=\"123adcf\"\n",
    "a.islower()"
   ]
  },
  {
   "cell_type": "markdown",
   "metadata": {},
   "source": [
    "## String Functions\n"
   ]
  },
  {
   "cell_type": "code",
   "execution_count": 49,
   "metadata": {},
   "outputs": [
    {
     "name": "stdout",
     "output_type": "stream",
     "text": [
      "7\n",
      "-1\n",
      "-1\n",
      "7\n",
      "14\n",
      "I love Mango, Mango loves me\n",
      "2\n",
      "I love Mango, Mango loves me\n",
      "I love Mango, Mango loves me\n",
      "I Love Mango, Mango Loves Me\n"
     ]
    }
   ],
   "source": [
    "a=\"I love Apple, Apple loves me\"\n",
    "print(a.find(\"Apple\"))\n",
    "print(a.find(\"Apple\",15,len(a)))\n",
    "print(a.find(\"APple\"))\n",
    "print(a.index(\"Apple\"))\n",
    "#find returns -1 if not found index returns exception\n",
    "print(a.rfind(\"Apple\"))\n",
    "a=a.replace(\"Apple\",\"Mango\")\n",
    "print(a)\n",
    "print(a.count(\"Mango\"))\n",
    "l=a.split()\n",
    "b=\" \"\n",
    "l=b.join(l)\n",
    "print(l)\n",
    "l.capitalize()\n",
    "print(l)\n",
    "\n",
    "a=a.title()\n",
    "print(a)"
   ]
  },
  {
   "cell_type": "code",
   "execution_count": 50,
   "metadata": {},
   "outputs": [],
   "source": [
    "## DAta Structures\n"
   ]
  },
  {
   "cell_type": "markdown",
   "metadata": {},
   "source": [
    "## DATA STRUCTURES\n",
    "\n",
    "Builtin Datatypes\n",
    "-  List"
   ]
  },
  {
   "cell_type": "code",
   "execution_count": 57,
   "metadata": {},
   "outputs": [
    {
     "name": "stdout",
     "output_type": "stream",
     "text": [
      "[1, 2, 3, 'Man']\n",
      "<class 'list'>\n"
     ]
    }
   ],
   "source": [
    "myList=[1,2,3,\"Man\"]\n",
    "print(myList)\n",
    "print(type(myList))"
   ]
  },
  {
   "cell_type": "code",
   "execution_count": 62,
   "metadata": {},
   "outputs": [
    {
     "name": "stdout",
     "output_type": "stream",
     "text": [
      "[1, 2, 'Arc']\n",
      "[1, 2, 'Arc']\n",
      "[1, 2, 'Arc', 1, 2, 'Arc']\n",
      "[1, 4, 9, 16, 25]\n"
     ]
    }
   ],
   "source": [
    "l2=list([1,2,\"Arc\"])\n",
    "print(l2)\n",
    "l3=list(l2)\n",
    "print(l3)\n",
    "##copy\n",
    "l3.extend(l2)\n",
    "#to add\n",
    "print(l3)\n",
    "l4=[i*i for i in range(1,6)]\n",
    "print(l4)"
   ]
  },
  {
   "cell_type": "markdown",
   "metadata": {},
   "source": [
    "## LIST SLICING"
   ]
  },
  {
   "cell_type": "code",
   "execution_count": 63,
   "metadata": {},
   "outputs": [
    {
     "name": "stdout",
     "output_type": "stream",
     "text": [
      "[1, 4, 9]\n"
     ]
    }
   ],
   "source": [
    "print(l4[0:3])"
   ]
  },
  {
   "cell_type": "markdown",
   "metadata": {},
   "source": [
    "## Insertion and Deletion\n",
    "-  append\n",
    "-  isert\n",
    "-  remove\n",
    "-  pop\n",
    "-  del"
   ]
  },
  {
   "cell_type": "code",
   "execution_count": 70,
   "metadata": {},
   "outputs": [
    {
     "name": "stdout",
     "output_type": "stream",
     "text": [
      "[1, 2, 3, [1, 2], 4, 5, 6]\n",
      "[1, 3, [1, 2], 4, 5, 6]\n",
      "2\n",
      "[3, [1, 2], 4, 5, 6]\n",
      "[3, [1, 2], 4, 5]\n",
      "[3, [1, 2], 4, 5, 3, [1, 2], 4, 5, 3, [1, 2], 4, 5, 3, [1, 2], 4, 5]\n"
     ]
    }
   ],
   "source": [
    "l=[1,2]\n",
    "l.append(3)\n",
    "l.append([1,2])\n",
    "#making list of list\n",
    "l+=[4,5,6]\n",
    "#imp\n",
    "print(l)\n",
    "l.remove(2)\n",
    "print(l)\n",
    "print(l[2][1])\n",
    "del l[0]\n",
    "print(l)\n",
    "l.pop()\n",
    "print(l)\n",
    "l=l*4\n",
    "print(l)"
   ]
  },
  {
   "cell_type": "code",
   "execution_count": 72,
   "metadata": {},
   "outputs": [
    {
     "name": "stdout",
     "output_type": "stream",
     "text": [
      "Star\n",
      "Shine\n",
      "StarShine\n"
     ]
    }
   ],
   "source": [
    "l=[\"Star\",\"Shine\",\"StarShine\"]\n",
    "for x in l:\n",
    "    print(x)"
   ]
  },
  {
   "cell_type": "code",
   "execution_count": 73,
   "metadata": {
    "collapsed": true
   },
   "outputs": [
    {
     "name": "stdout",
     "output_type": "stream",
     "text": [
      "Star\n",
      "Shine\n",
      "DEEPANSHI\n",
      "StarShine\n"
     ]
    }
   ],
   "source": [
    "l.insert(2,\"DEEPANSHI\")\n",
    "#insert(pos,data)\n",
    "for x in l:\n",
    "    print(x)"
   ]
  },
  {
   "cell_type": "code",
   "execution_count": 81,
   "metadata": {
    "scrolled": true
   },
   "outputs": [
    {
     "name": "stdout",
     "output_type": "stream",
     "text": [
      "19\n",
      "2\n",
      "3\n",
      "[2, 3, 4, 16, 19]\n",
      "[2, 12, 34, 45, 3435]\n",
      "[3435, 45, 34, 12, 2]\n"
     ]
    }
   ],
   "source": [
    "l=[4,3,2,16,19]\n",
    "print(max(l))\n",
    "print(min(l))\n",
    "print(l.index(16))\n",
    "l=sorted(l)\n",
    "print(l)\n",
    "l2=[34,45,12,2,3435]\n",
    "l2.sort()\n",
    "print(l2)\n",
    "l2.sort(reverse=True)\n",
    "print(l2)"
   ]
  },
  {
   "cell_type": "code",
   "execution_count": 1,
   "metadata": {},
   "outputs": [
    {
     "name": "stdout",
     "output_type": "stream",
     "text": [
      "234 455 56 67\n",
      "<class 'list'>\n",
      "[234, 455, 56, 67]\n",
      "2 3 4 5 6 7 \n",
      "[4, 9, 16, 25, 36, 49]\n"
     ]
    }
   ],
   "source": [
    "##read a list of number\n",
    "number=[int(number) for number in input().split()]\n",
    "print(type(number))\n",
    "print(number)\n",
    "number2=[int(number2)*int(number2) for number2 in input().split()]\n",
    "print(number2)\n"
   ]
  },
  {
   "cell_type": "markdown",
   "metadata": {},
   "source": [
    "## Python DS"
   ]
  },
  {
   "cell_type": "markdown",
   "metadata": {},
   "source": [
    "# DICTIONARY"
   ]
  },
  {
   "cell_type": "code",
   "execution_count": 6,
   "metadata": {},
   "outputs": [
    {
     "name": "stdout",
     "output_type": "stream",
     "text": [
      "{'mango': 100, 'Apple': 80, 'Guave': 60}\n",
      "{'mango': 100, 'Apple': 80, 'Guave': 60, 'pineapple': {'Small': 60, 'Big': 50}}\n",
      "{'mango': 100, 'Apple': 80, 'Guave': 60, 'pineapple': {'Small': 60, 'Big': 50}, 'Grape': [10, 20]}\n",
      "60\n"
     ]
    }
   ],
   "source": [
    "d={\"mango\":100,\"Apple\":80}\n",
    "d[\"Guave\"]=60\n",
    "print(d)\n",
    "d[\"pineapple\"]={\"Small\":60,\"Big\":50}\n",
    "print(d)\n",
    "d[\"Grape\"]=[10,20]\n",
    "print(d)\n",
    "print(d[\"pineapple\"][\"Small\"])"
   ]
  },
  {
   "cell_type": "code",
   "execution_count": 16,
   "metadata": {},
   "outputs": [
    {
     "name": "stdout",
     "output_type": "stream",
     "text": [
      "dict_keys(['mango', 'Apple', 'Guave', 'pineapple', 'Grape'])\n",
      "dict_values([100, 80, 60, {'Small': 60, 'Big': 50}, [10, 20]])\n"
     ]
    }
   ],
   "source": [
    "print(d.keys())\n",
    "print(d.values())"
   ]
  },
  {
   "cell_type": "markdown",
   "metadata": {},
   "source": [
    "## DICTIONARY METHODS AND OPERATIONS"
   ]
  },
  {
   "cell_type": "code",
   "execution_count": 20,
   "metadata": {},
   "outputs": [
    {
     "name": "stdout",
     "output_type": "stream",
     "text": [
      "100\n",
      "None\n",
      "[10, 20]\n"
     ]
    }
   ],
   "source": [
    "print(d.get(\"mango\"))\n",
    "print(d.get(\"Mango\"))\n",
    "print(d[\"Grape\"])"
   ]
  },
  {
   "cell_type": "code",
   "execution_count": 25,
   "metadata": {},
   "outputs": [
    {
     "name": "stdout",
     "output_type": "stream",
     "text": [
      "dict_items([('mango', 100), ('Apple', 80), ('Guave', 60), ('pineapple', {'Small': 60, 'Big': 50}), ('Grape', [10, 20]), ('Strawberry', 95), ('STar', 20)])\n",
      "[('mango', 100), ('Apple', 80), ('Guave', 60), ('pineapple', {'Small': 60, 'Big': 50}), ('Grape', [10, 20]), ('Strawberry', 95), ('STar', 20)]\n",
      "{'mango': 100, 'Apple': 80, 'Guave': 60, 'pineapple': {'Small': 60, 'Big': 50}, 'Grape': [10, 20], 'Strawberry': 95, 'STar': 20}\n",
      "{}\n"
     ]
    }
   ],
   "source": [
    "print(d.items())\n",
    "#print all tuples\n",
    "l=list(d.items())\n",
    "print(l)\n",
    "#update adds the lists\n",
    "d2={ \"Strawberry\":95,\"STar\":20}\n",
    "d.update(d2)\n",
    "print(d)\n",
    "d.clear()\n",
    "print(d)"
   ]
  },
  {
   "cell_type": "code",
   "execution_count": 36,
   "metadata": {},
   "outputs": [
    {
     "name": "stdout",
     "output_type": "stream",
     "text": [
      "{'Apple': 100, 'Banana': 80, 'Guava': 90}\n",
      "<class 'dict'>\n",
      "100\n",
      "80\n",
      "90\n"
     ]
    }
   ],
   "source": [
    "l1=[\"Apple\",\"Banana\",\"Guava\",\"DD\"]\n",
    "l2=[100,80,90]\n",
    "#ignores the extra values\n",
    "p=dict(zip(l1,l2))\n",
    "print(p)\n",
    "print(type(p))\n",
    "for k in p.values():\n",
    "    print(k)\n"
   ]
  },
  {
   "cell_type": "markdown",
   "metadata": {},
   "source": [
    "## TUPLES"
   ]
  },
  {
   "cell_type": "code",
   "execution_count": 37,
   "metadata": {},
   "outputs": [],
   "source": [
    "#hold multiple objects together\n",
    "#immutable\n",
    "#write protected\n",
    "#faster than lists\n",
    "#returns mutiple data\n"
   ]
  },
  {
   "cell_type": "code",
   "execution_count": 45,
   "metadata": {},
   "outputs": [
    {
     "name": "stdout",
     "output_type": "stream",
     "text": [
      "(1, 2, 3, 'Star')\n",
      "<class 'tuple'>\n",
      "[1, 2, 3, 'Star']\n",
      "<class 'list'>\n",
      "<class 'tuple'>\n",
      "(1, 2, 3, 'Star', 1, 2, 3, 'Star')\n",
      "78\n"
     ]
    },
    {
     "ename": "NameError",
     "evalue": "name 't' is not defined",
     "output_type": "error",
     "traceback": [
      "\u001b[1;31m---------------------------------------------------------------------------\u001b[0m",
      "\u001b[1;31mNameError\u001b[0m                                 Traceback (most recent call last)",
      "\u001b[1;32m<ipython-input-45-b6ff0b5e662a>\u001b[0m in \u001b[0;36m<module>\u001b[1;34m\u001b[0m\n\u001b[0;32m     11\u001b[0m \u001b[0mprint\u001b[0m\u001b[1;33m(\u001b[0m\u001b[0mmax\u001b[0m\u001b[1;33m(\u001b[0m\u001b[0mt2\u001b[0m\u001b[1;33m)\u001b[0m\u001b[1;33m)\u001b[0m\u001b[1;33m\u001b[0m\u001b[1;33m\u001b[0m\u001b[0m\n\u001b[0;32m     12\u001b[0m \u001b[1;32mdel\u001b[0m \u001b[0mt\u001b[0m\u001b[1;33m\u001b[0m\u001b[1;33m\u001b[0m\u001b[0m\n\u001b[1;32m---> 13\u001b[1;33m \u001b[0mprint\u001b[0m\u001b[1;33m(\u001b[0m\u001b[0mt\u001b[0m\u001b[1;33m)\u001b[0m\u001b[1;33m\u001b[0m\u001b[1;33m\u001b[0m\u001b[0m\n\u001b[0m",
      "\u001b[1;31mNameError\u001b[0m: name 't' is not defined"
     ]
    }
   ],
   "source": [
    "t=(1,2,3,\"Star\")\n",
    "print(t)\n",
    "print(type(t))\n",
    "l=list(t)\n",
    "print(l)\n",
    "print(type(l))\n",
    "t1=tuple(l)\n",
    "print(type(t1))\n",
    "print(t+t1)\n",
    "t2=(2,34,34,56,78,9,10)\n",
    "print(max(t2))\n",
    "del t\n",
    "print(t)"
   ]
  },
  {
   "cell_type": "markdown",
   "metadata": {},
   "source": [
    "# SETS\n"
   ]
  },
  {
   "cell_type": "code",
   "execution_count": 58,
   "metadata": {},
   "outputs": [
    {
     "name": "stdout",
     "output_type": "stream",
     "text": [
      "{3, 1, 11, 12}\n",
      "None\n",
      "{1, 2, 3, 4, 34, 11, 12}\n",
      "{1, 2, 3, 4, 34, 11, 12}\n",
      "{1, 3}\n",
      "{1, 3}\n",
      "{2, 4, 34}\n",
      "{2, 4, 34}\n",
      "True\n",
      "{2, 34, 4, 11, 12}\n"
     ]
    }
   ],
   "source": [
    "#unique,unordered elements\n",
    "s={12,11,1,3}\n",
    "print(s)\n",
    "s1=set([2,3,4,1])\n",
    "#pushing new value\n",
    "print(s1.add(34))\n",
    "#Union\n",
    "print(s1 | s)\n",
    "print(s1.union(s))\n",
    "#intersection\n",
    "print(s1.intersection(s))\n",
    "print(s1 & s)\n",
    "#subtracting\n",
    "print(s1.difference(s))\n",
    "print(s1-s)\n",
    "if 12 in s:\n",
    "    print(\"True\")\n",
    "else:\n",
    "    print(\"False\")\n",
    "#elements only in one set\n",
    "print(s1^s)"
   ]
  },
  {
   "cell_type": "code",
   "execution_count": null,
   "metadata": {},
   "outputs": [],
   "source": []
  }
 ],
 "metadata": {
  "kernelspec": {
   "display_name": "Python 3",
   "language": "python",
   "name": "python3"
  },
  "language_info": {
   "codemirror_mode": {
    "name": "ipython",
    "version": 3
   },
   "file_extension": ".py",
   "mimetype": "text/x-python",
   "name": "python",
   "nbconvert_exporter": "python",
   "pygments_lexer": "ipython3",
   "version": "3.7.1"
  }
 },
 "nbformat": 4,
 "nbformat_minor": 2
}
