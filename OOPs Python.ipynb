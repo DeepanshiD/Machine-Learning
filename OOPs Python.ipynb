{
 "cells": [
  {
   "cell_type": "code",
   "execution_count": 3,
   "metadata": {},
   "outputs": [
    {
     "name": "stdout",
     "output_type": "stream",
     "text": [
      "hello DEEPANSHI\n"
     ]
    }
   ],
   "source": [
    "class Person():\n",
    "    def sayHi(self,name):\n",
    "            print(\"hello\",name)\n",
    "p=Person()\n",
    "p.sayHi(\"DEEPANSHI\")"
   ]
  },
  {
   "cell_type": "code",
   "execution_count": 7,
   "metadata": {},
   "outputs": [
    {
     "name": "stdout",
     "output_type": "stream",
     "text": [
      "Hello DD\n",
      "  DEf\n",
      "Hello DF\n",
      "  DEf\n"
     ]
    }
   ],
   "source": [
    "class Person():\n",
    "    nation=\"India\"   #class function remains same for all objects of the class\n",
    "    def __init__(self,pname,poclg):\n",
    "        #instance variables are for the method only\n",
    "        self.name=pname\n",
    "        self.college=poclg\n",
    "    def sayHi(self,name):\n",
    "        print(\"Hello\",name)                            #we give parameters of constructors while calling the class for(making) objects\n",
    "        print(\" \",self.college)\n",
    "p=Person(\"DD\",\"DEf\")\n",
    "p.sayHi(\"DD\")\n",
    "p2=Person(\"DF\",\"DDDD\")\n",
    "p.sayHi(\"DF\")"
   ]
  },
  {
   "cell_type": "code",
   "execution_count": 35,
   "metadata": {},
   "outputs": [
    {
     "name": "stdout",
     "output_type": "stream",
     "text": [
      "Object `doActivity` not found.\n",
      "Labrador\n",
      "['Plays', 'Eats', 'Jumps']\n",
      "Doing secret ACTIVITY\n"
     ]
    }
   ],
   "source": [
    "class Dog():\n",
    "    colour=\"Dog\"\n",
    "   \n",
    "    #private syntax __;private functions can be callled only by public functions\n",
    "    def __init__(self,breed):\n",
    "        \"\"\"\"FIRST\"\"\"\n",
    "        self.breed=breed\n",
    "        self.activities=[]\n",
    "    def addActivity(self,act):\n",
    "\n",
    "        self.activities.append(act)\n",
    "    def __secret(self):\n",
    "        \"\"\"\"SECOND\"\"\"\n",
    "        print(\"Doing secret ACTIVITY\");\n",
    "    def doActivity(self):\n",
    "        \"\"\"\"THIRD\"\"\"\n",
    "        print(self.breed)\n",
    "        print(self.activities)\n",
    "        self.__secret() #calling private Activity\n",
    "    \n",
    "d=Dog(\"German Shepherd\")\n",
    "doActivity?\n",
    "d.addActivity(\"EATS\")\n",
    "d.doActivity?\n",
    "\n",
    "d1=Dog(\"Labrador\")\n",
    "d1.addActivity(\"Plays\")\n",
    "d1.addActivity(\"Eats\")\n",
    "d1.addActivity(\"Jumps\")\n",
    "d1.doActivity()"
   ]
  },
  {
   "cell_type": "markdown",
   "metadata": {},
   "source": [
    "## INHERITANCE"
   ]
  },
  {
   "cell_type": "code",
   "execution_count": 58,
   "metadata": {},
   "outputs": [],
   "source": [
    "class School():\n",
    "    def __init__(self,name,age):\n",
    "        self.name=name\n",
    "        self.age=age\n",
    "    def intro(self):\n",
    "        print(\"HEY\",self.name)\n",
    "        "
   ]
  },
  {
   "cell_type": "code",
   "execution_count": 59,
   "metadata": {},
   "outputs": [],
   "source": [
    "class Teacher(School):\n",
    "    def __init__(self,name,age,salary):\n",
    "        School.__init__(self,name,salary)\n",
    "        self.salary=salary\n",
    "    def intop(self):\n",
    "        print(\"You are a teacher\")\n",
    "        print(\"Your Salary is\",self.salary)"
   ]
  },
  {
   "cell_type": "code",
   "execution_count": 60,
   "metadata": {},
   "outputs": [],
   "source": [
    "class Student(School):\n",
    "    def __init__(self,name,age,marks):\n",
    "        School.__init__(self,name,marks)\n",
    "        self.marks=marks\n",
    "    def intp(self):\n",
    "        print(\"You are a student\")\n",
    "        print(\"Your marks are\",self.marks)"
   ]
  },
  {
   "cell_type": "code",
   "execution_count": 62,
   "metadata": {},
   "outputs": [
    {
     "name": "stdout",
     "output_type": "stream",
     "text": [
      "HEY A\n",
      "You are a teacher\n",
      "Your Salary is 45678\n",
      "HEY B\n",
      "You are a student\n",
      "Your marks are 90\n"
     ]
    }
   ],
   "source": [
    "t=Teacher(\"A\",34,45678)\n",
    "t.intro()\n",
    "t.intop()\n",
    "s=Student(\"B\",12,90)\n",
    "s.intro()\n",
    "s.intp()\n"
   ]
  },
  {
   "cell_type": "code",
   "execution_count": 91,
   "metadata": {},
   "outputs": [],
   "source": [
    "f=open(\"file.txt\",'w+')\n",
    "content=\"You Are Strong\\n\"\n",
    "l=[content]*3\n",
    "f.writelines(l)\n",
    "f.close()\n",
    "\n"
   ]
  },
  {
   "cell_type": "code",
   "execution_count": 92,
   "metadata": {},
   "outputs": [
    {
     "name": "stdout",
     "output_type": "stream",
     "text": [
      "You Are Strong\n",
      "You Are Strong\n",
      "You Are Strong\n",
      "\n"
     ]
    }
   ],
   "source": [
    "f = open(\"file.txt\",\"r\")\n",
    "print(f.read())"
   ]
  },
  {
   "cell_type": "code",
   "execution_count": 96,
   "metadata": {},
   "outputs": [
    {
     "name": "stdout",
     "output_type": "stream",
     "text": [
      "False\n",
      "You Are Strong\n",
      "You Are Strong\n",
      "You Are Strong\n",
      "\n"
     ]
    }
   ],
   "source": [
    "with open(\"file.txt\",\"r\") as f:\n",
    "    print(f.closed)   ##OPEN FILE OR NOT \n",
    "    print(f.read())"
   ]
  },
  {
   "cell_type": "markdown",
   "metadata": {},
   "source": [
    "## JSON FILES"
   ]
  },
  {
   "cell_type": "code",
   "execution_count": 117,
   "metadata": {},
   "outputs": [
    {
     "name": "stdout",
     "output_type": "stream",
     "text": [
      "<class 'dict'>\n",
      "{'name': 'A1', 'age': '34'}\n"
     ]
    }
   ],
   "source": [
    "import json\n",
    "\n",
    "book={\n",
    "    \"name\":\"Learning Python\",\n",
    "    \"page\":320,\n",
    "    \"authors\":[\n",
    "        {\n",
    "            \"name\":\"A1\",\n",
    "            \"age\":\"34\"\n",
    "        },\n",
    "        {\n",
    "            \"name\":\"A2\",\n",
    "            \"age\":\"45\"\n",
    "        }\n",
    "    ]\n",
    "}\n",
    "\n",
    "print(type(book))\n",
    "print(book['authors'][0])"
   ]
  },
  {
   "cell_type": "code",
   "execution_count": 125,
   "metadata": {},
   "outputs": [],
   "source": [
    "with open(\"myJsonFile.json\",'w')as f:\n",
    "    json.dump(book,f)\n",
    "    "
   ]
  },
  {
   "cell_type": "code",
   "execution_count": 126,
   "metadata": {},
   "outputs": [
    {
     "name": "stdout",
     "output_type": "stream",
     "text": [
      "<class 'str'>\n",
      "{\"name\": \"Learning Python\", \"page\": 320, \"authors\": [{\"name\": \"A1\", \"age\": \"34\"}, {\"name\": \"A2\", \"age\": \"45\"}]}\n"
     ]
    }
   ],
   "source": [
    "s=json.dumps(book)\n",
    "print(type(s))\n",
    "print(s)"
   ]
  },
  {
   "cell_type": "markdown",
   "metadata": {},
   "source": [
    "## DESERIALISATION"
   ]
  },
  {
   "cell_type": "code",
   "execution_count": 127,
   "metadata": {},
   "outputs": [
    {
     "name": "stdout",
     "output_type": "stream",
     "text": [
      "{'name': 'Learning Python', 'page': 320, 'authors': [{'name': 'A1', 'age': '34'}, {'name': 'A2', 'age': '45'}]}\n",
      "<class 'dict'>\n"
     ]
    }
   ],
   "source": [
    "pbj=json.loads(s)\n",
    "print(pbj)\n",
    "print(type(pbj))"
   ]
  },
  {
   "cell_type": "code",
   "execution_count": 129,
   "metadata": {},
   "outputs": [
    {
     "name": "stdout",
     "output_type": "stream",
     "text": [
      "{'authors': [{'age': '34', 'name': 'A1'}, {'age': '45', 'name': 'A2'}],\n",
      " 'name': 'Learning Python',\n",
      " 'page': 320}\n"
     ]
    }
   ],
   "source": [
    "import pprint\n",
    "with open(\"myJsonFile.json\",'r')as f:\n",
    "    data = json.load(f)  #load is to read\n",
    "    pprint.pprint(data)"
   ]
  },
  {
   "cell_type": "markdown",
   "metadata": {},
   "source": [
    "## EXCEPTION HANDLING\n",
    "-  try except\n",
    "-  "
   ]
  },
  {
   "cell_type": "code",
   "execution_count": 130,
   "metadata": {},
   "outputs": [
    {
     "name": "stdout",
     "output_type": "stream",
     "text": [
      "SOmething went wrong\n",
      "<class 'Exception'>\n"
     ]
    }
   ],
   "source": [
    "try:\n",
    "    f= open(\"someMis.txt\",'r')\n",
    "except Exception:\n",
    "    print(\"SOmething went wrong\")\n",
    "    print(Exception)"
   ]
  },
  {
   "cell_type": "code",
   "execution_count": null,
   "metadata": {},
   "outputs": [],
   "source": [
    "try:\n",
    "    a=input(\"enter your name\")\n",
    "    print(\"File Opened\")\n",
    "except FileNotFoundError:\n",
    "    print(\"FIle Doesnt exist\")\n",
    "except NameError:\n",
    "    print(\"NAME ERROR\")\n",
    "except Exception:\n",
    "    print(\"some Error\")\n",
    "else:\n",
    "    print(\"FORM SUBMITTER\")\n",
    "finally:\n",
    "    print(\"FINALLY RUNS NO MATTER WHAT\")"
   ]
  },
  {
   "cell_type": "code",
   "execution_count": null,
   "metadata": {},
   "outputs": [],
   "source": [
    "t=int(input())\n",
    "i=0\n",
    "while i < t:\n",
    "    d=(int(input))\n",
    "    print(d)"
   ]
  },
  {
   "cell_type": "code",
   "execution_count": null,
   "metadata": {},
   "outputs": [],
   "source": []
  },
  {
   "cell_type": "code",
   "execution_count": null,
   "metadata": {},
   "outputs": [],
   "source": []
  }
 ],
 "metadata": {
  "kernelspec": {
   "display_name": "Python 3",
   "language": "python",
   "name": "python3"
  },
  "language_info": {
   "codemirror_mode": {
    "name": "ipython",
    "version": 3
   },
   "file_extension": ".py",
   "mimetype": "text/x-python",
   "name": "python",
   "nbconvert_exporter": "python",
   "pygments_lexer": "ipython3",
   "version": "3.7.1"
  }
 },
 "nbformat": 4,
 "nbformat_minor": 2
}
