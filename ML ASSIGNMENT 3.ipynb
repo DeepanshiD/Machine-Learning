{
 "cells": [
  {
   "cell_type": "code",
   "execution_count": 217,
   "metadata": {},
   "outputs": [],
   "source": [
    "import pandas as pd \n",
    "import numpy as np\n",
    "import matplotlib.pyplot as plt"
   ]
  },
  {
   "cell_type": "code",
   "execution_count": 218,
   "metadata": {},
   "outputs": [],
   "source": [
    "dfx=pd.read_csv('./Datasets/Logistic_Data/logisticX.csv')\n",
    "dfy=pd.read_csv('./Datasets/Logistic_Data/logisticY.csv')"
   ]
  },
  {
   "cell_type": "code",
   "execution_count": 219,
   "metadata": {},
   "outputs": [
    {
     "name": "stdout",
     "output_type": "stream",
     "text": [
      "(99, 2)\n",
      "(99, 1)\n",
      "(2,)\n"
     ]
    }
   ],
   "source": [
    "X=dfx.values\n",
    "Y=dfy.values\n",
    "print(X.shape)\n",
    "print(Y.shape)\n",
    "theta=np.zeros((X.shape[1],))\n",
    "print(theta.shape)\n",
    "X=(X-X.mean()/X.std())"
   ]
  },
  {
   "cell_type": "code",
   "execution_count": 220,
   "metadata": {},
   "outputs": [
    {
     "name": "stdout",
     "output_type": "stream",
     "text": [
      "(79, 2)\n",
      "(20,)\n"
     ]
    }
   ],
   "source": [
    "split=int(0.8*(Y.shape[0]))\n",
    "xt=X[:split,:]\n",
    "xd=X[split:,:]\n",
    "yt=Y[:split,:]\n",
    "yd=Y[split:,:]\n",
    "yt=yt.reshape(-1,)\n",
    "yd=yd.reshape(-1,)\n",
    "print(xt.shape)\n",
    "print(yd.shape)"
   ]
  },
  {
   "cell_type": "code",
   "execution_count": 252,
   "metadata": {},
   "outputs": [],
   "source": [
    "def hyp(X,theta,b):\n",
    "    return sig(np.dot(X,theta) + b)\n",
    "    "
   ]
  },
  {
   "cell_type": "code",
   "execution_count": 253,
   "metadata": {},
   "outputs": [],
   "source": [
    "def sig(a):\n",
    "    return (1.0/(1.0+(np.exp(-1*a))))"
   ]
  },
  {
   "cell_type": "code",
   "execution_count": null,
   "metadata": {},
   "outputs": [],
   "source": []
  },
  {
   "cell_type": "code",
   "execution_count": 254,
   "metadata": {},
   "outputs": [],
   "source": [
    "def error(X,theta,b,Y):\n",
    "    i=0\n",
    "    m=X.shape[0]\n",
    "    er=0\n",
    "    while(i<m):\n",
    "        h=hyp(X[i],theta,b)\n",
    "        er+=Y[i]*np.log2(1.0*h)+1.0*((1-Y[i])*np.log2(1.0-h))\n",
    "        i+=1\n",
    "    return (-er/m)"
   ]
  },
  {
   "cell_type": "code",
   "execution_count": 266,
   "metadata": {},
   "outputs": [],
   "source": [
    "def acc(x_tst,w,b,y_tst):\n",
    "    i=0\n",
    "    m=x_tst.shape[0]\n",
    "    y_pred = []\n",
    "    \n",
    "    while(i<m):\n",
    "        p = predict(x_tst[i],w,b)\n",
    "        y_pred.append(p)\n",
    "        i+=1\n",
    "    y_pred = np.array(y_pred)\n",
    "    \n",
    "    return  float((y_pred==y_tst).sum())/y_tst.shape[0]\n",
    "        \n",
    "def predict(x,w,b):\n",
    "    \n",
    "    confidence = hyp(x,w,b)\n",
    "    if confidence<0.5:\n",
    "        return 0\n",
    "    else:\n",
    "        return 1\n",
    "\n",
    "    "
   ]
  },
  {
   "cell_type": "code",
   "execution_count": 267,
   "metadata": {},
   "outputs": [],
   "source": [
    "def grad(X,Y,theta,b):\n",
    "    gr=np.zeros(theta.shape)\n",
    "    i=0\n",
    "    f=0.0\n",
    "    m=X.shape[0]\n",
    "    while(i<m):\n",
    "        h=hyp(X[i],theta,b)\n",
    "        gr+=(Y[i]-h)*X[i]\n",
    "        f+= Y[i]-h\n",
    "        i+=1\n",
    "    f=1.0* f/99\n",
    "    gr=1.0* gr/m\n",
    "    return f,gr"
   ]
  },
  {
   "cell_type": "code",
   "execution_count": 268,
   "metadata": {},
   "outputs": [
    {
     "data": {
      "text/plain": [
       "(-0.25900429518845414, array([ 0.05197249, -0.87016499]))"
      ]
     },
     "execution_count": 268,
     "metadata": {},
     "output_type": "execute_result"
    }
   ],
   "source": [
    "grad(xt,yt,theta,1)"
   ]
  },
  {
   "cell_type": "code",
   "execution_count": 278,
   "metadata": {},
   "outputs": [],
   "source": [
    "def grad_D(X,Y,theta,b,lr):\n",
    "    erl=[]\n",
    "    ac=[]\n",
    "    i=0\n",
    "    er=0\n",
    "    b1=0\n",
    "    a=0\n",
    "    gr1=0\n",
    "    while(i<100):\n",
    "        b1,gr1=grad(X,Y,theta,b)\n",
    "        theta+=lr*gr1\n",
    "        b+=lr*b1\n",
    "        a=acc(X,theta,b,Y)\n",
    "        ac.append(a)\n",
    "        er=error(X,theta,b,Y)\n",
    "        erl.append(er)\n",
    "        i+=1\n",
    "        \n",
    "    return ac,theta,erl,b"
   ]
  },
  {
   "cell_type": "code",
   "execution_count": 279,
   "metadata": {},
   "outputs": [],
   "source": [
    "b=0\n",
    "theta=np.zeros((xt.shape[1],))\n",
    "ac,theta,erl,b=grad_D(xt,yt,theta,b,0.1)"
   ]
  },
  {
   "cell_type": "code",
   "execution_count": 280,
   "metadata": {},
   "outputs": [
    {
     "data": {
      "text/plain": [
       "[<matplotlib.lines.Line2D at 0x1f3000ec400>]"
      ]
     },
     "execution_count": 280,
     "metadata": {},
     "output_type": "execute_result"
    },
    {
     "data": {
      "image/png": "[encoded data removed]",
      "text/plain": [
       "<Figure size 432x288 with 1 Axes>"
      ]
     },
     "metadata": {
      "needs_background": "light"
     },
     "output_type": "display_data"
    }
   ],
   "source": [
    "plt.plot(erl)\n"
   ]
  },
  {
   "cell_type": "code",
   "execution_count": null,
   "metadata": {},
   "outputs": [],
   "source": []
  },
  {
   "cell_type": "code",
   "execution_count": 281,
   "metadata": {},
   "outputs": [
    {
     "data": {
      "text/plain": [
       "[<matplotlib.lines.Line2D at 0x1f300144c50>]"
      ]
     },
     "execution_count": 281,
     "metadata": {},
     "output_type": "execute_result"
    },
    {
     "data": {
      "image/png": "[encoded data removed]",
      "text/plain": [
       "<Figure size 432x288 with 1 Axes>"
      ]
     },
     "metadata": {
      "needs_background": "light"
     },
     "output_type": "display_data"
    }
   ],
   "source": [
    " plt.plot(ac)"
   ]
  },
  {
   "cell_type": "code",
   "execution_count": null,
   "metadata": {},
   "outputs": [],
   "source": []
  },
  {
   "cell_type": "code",
   "execution_count": 295,
   "metadata": {},
   "outputs": [
    {
     "data": {
      "text/plain": [
       "[<matplotlib.lines.Line2D at 0x1f300358fd0>]"
      ]
     },
     "execution_count": 295,
     "metadata": {},
     "output_type": "execute_result"
    },
    {
     "data": {
      "image/png": "[encoded data removed]",
      "text/plain": [
       "<Figure size 432x288 with 1 Axes>"
      ]
     },
     "metadata": {
      "needs_background": "light"
     },
     "output_type": "display_data"
    }
   ],
   "source": [
    "\n",
    "plt.scatter(xt[:49,0],xt[:49,1],color='r')\n",
    "plt.scatter(X[49:,0],X[49:,1],color='b')\n",
    "x = np.linspace(-4,8,10)\n",
    "y = -(theta[0]*x + b)/theta[1]\n",
    "plt.plot(x,y,color='k')"
   ]
  },
  {
   "cell_type": "markdown",
   "metadata": {},
   "source": [
    "## PART-2 USING SCIKIT"
   ]
  },
  {
   "cell_type": "code",
   "execution_count": 297,
   "metadata": {},
   "outputs": [],
   "source": [
    "from sklearn.linear_model import LogisticRegression"
   ]
  },
  {
   "cell_type": "code",
   "execution_count": 298,
   "metadata": {},
   "outputs": [],
   "source": [
    "logisticRegr = LogisticRegression()"
   ]
  },
  {
   "cell_type": "code",
   "execution_count": 309,
   "metadata": {},
   "outputs": [
    {
     "name": "stderr",
     "output_type": "stream",
     "text": [
      "F:\\Anaconda3\\lib\\site-packages\\sklearn\\linear_model\\logistic.py:433: FutureWarning: Default solver will be changed to 'lbfgs' in 0.22. Specify a solver to silence this warning.\n",
      "  FutureWarning)\n"
     ]
    },
    {
     "data": {
      "text/plain": [
       "LogisticRegression(C=1.0, class_weight=None, dual=False, fit_intercept=True,\n",
       "          intercept_scaling=1, max_iter=100, multi_class='warn',\n",
       "          n_jobs=None, penalty='l2', random_state=None, solver='warn',\n",
       "          tol=0.0001, verbose=0, warm_start=False)"
      ]
     },
     "execution_count": 309,
     "metadata": {},
     "output_type": "execute_result"
    }
   ],
   "source": [
    "logisticRegr.fit(xt,yt)"
   ]
  },
  {
   "cell_type": "code",
   "execution_count": 310,
   "metadata": {},
   "outputs": [
    {
     "name": "stdout",
     "output_type": "stream",
     "text": [
      "[1 0 1 1 1 1 1 1 0 1 1 1 1 1 1 1 1 1 1 1]\n",
      "[1 1 1 1 1 1 1 1 1 1 1 1 1 1 1 1 1 1 1 1]\n"
     ]
    }
   ],
   "source": [
    "predictions = logisticRegr.predict(xd)\n",
    "print(predictions)\n",
    "print(yd)"
   ]
  },
  {
   "cell_type": "code",
   "execution_count": 311,
   "metadata": {},
   "outputs": [
    {
     "name": "stdout",
     "output_type": "stream",
     "text": [
      "0.9\n"
     ]
    }
   ],
   "source": [
    "score = logisticRegr.score(xd, yd)\n",
    "print(score)"
   ]
  },
  {
   "cell_type": "code",
   "execution_count": null,
   "metadata": {},
   "outputs": [],
   "source": []
  }
 ],
 "metadata": {
  "kernelspec": {
   "display_name": "Python 3",
   "language": "python",
   "name": "python3"
  },
  "language_info": {
   "codemirror_mode": {
    "name": "ipython",
    "version": 3
   },
   "file_extension": ".py",
   "mimetype": "text/x-python",
   "name": "python",
   "nbconvert_exporter": "python",
   "pygments_lexer": "ipython3",
   "version": "3.7.1"
  }
 },
 "nbformat": 4,
 "nbformat_minor": 2
}
